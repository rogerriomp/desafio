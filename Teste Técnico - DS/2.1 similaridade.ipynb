{
 "cells": [
  {
   "cell_type": "code",
   "execution_count": 46,
   "id": "90fcda4a",
   "metadata": {},
   "outputs": [],
   "source": [
    "from rapidfuzz.distance import Levenshtein\n",
    "import pandas as pd\n",
    "from unicodedata import normalize\n",
    "import re\n",
    "from tqdm import tqdm"
   ]
  },
  {
   "cell_type": "code",
   "execution_count": 44,
   "id": "793ec1db",
   "metadata": {},
   "outputs": [
    {
     "data": {
      "text/plain": [
       "1.0"
      ]
     },
     "execution_count": 44,
     "metadata": {},
     "output_type": "execute_result"
    }
   ],
   "source": [
    "Levenshtein.normalized_similarity('Zapatillas Nike', 'Zapatillas Nike', weights=(1,1,2))"
   ]
  },
  {
   "cell_type": "code",
   "execution_count": 47,
   "id": "89ee75be",
   "metadata": {},
   "outputs": [],
   "source": []
  },
  {
   "cell_type": "code",
   "execution_count": 103,
   "id": "93bfcf41",
   "metadata": {},
   "outputs": [],
   "source": [
    "df2 = pd.read_csv('items_titles_test.csv')"
   ]
  },
  {
   "cell_type": "raw",
   "id": "08065558",
   "metadata": {},
   "source": [
    "df1"
   ]
  },
  {
   "cell_type": "code",
   "execution_count": 54,
   "id": "10ec210b",
   "metadata": {},
   "outputs": [
    {
     "data": {
      "text/html": [
       "<div>\n",
       "<style scoped>\n",
       "    .dataframe tbody tr th:only-of-type {\n",
       "        vertical-align: middle;\n",
       "    }\n",
       "\n",
       "    .dataframe tbody tr th {\n",
       "        vertical-align: top;\n",
       "    }\n",
       "\n",
       "    .dataframe thead th {\n",
       "        text-align: right;\n",
       "    }\n",
       "</style>\n",
       "<table border=\"1\" class=\"dataframe\">\n",
       "  <thead>\n",
       "    <tr style=\"text-align: right;\">\n",
       "      <th></th>\n",
       "      <th>ITE_ITEM_TITLE</th>\n",
       "    </tr>\n",
       "  </thead>\n",
       "  <tbody>\n",
       "    <tr>\n",
       "      <th>0</th>\n",
       "      <td>Tênis Olympikus Esporte Valente - Masculino Kids</td>\n",
       "    </tr>\n",
       "    <tr>\n",
       "      <th>1</th>\n",
       "      <td>Bicicleta Barra Forte Samy C/ 6 Marchas Cubo C...</td>\n",
       "    </tr>\n",
       "    <tr>\n",
       "      <th>2</th>\n",
       "      <td>Tênis Usthemp Slip-on Temático - Labrador 2</td>\n",
       "    </tr>\n",
       "    <tr>\n",
       "      <th>3</th>\n",
       "      <td>Tênis Casual Feminino Moleca Tecido Tie Dye</td>\n",
       "    </tr>\n",
       "    <tr>\n",
       "      <th>4</th>\n",
       "      <td>Tênis Star Baby Sapatinho Conforto + Brinde</td>\n",
       "    </tr>\n",
       "    <tr>\n",
       "      <th>...</th>\n",
       "      <td>...</td>\n",
       "    </tr>\n",
       "    <tr>\n",
       "      <th>9995</th>\n",
       "      <td>Chuteira Futsal Oxn Velox 3 Infantil</td>\n",
       "    </tr>\n",
       "    <tr>\n",
       "      <th>9996</th>\n",
       "      <td>Sapatenis Casual Masculino Estiloso 24horas Co...</td>\n",
       "    </tr>\n",
       "    <tr>\n",
       "      <th>9997</th>\n",
       "      <td>Tênis Feminino Infantil Molekinha Tie Dye</td>\n",
       "    </tr>\n",
       "    <tr>\n",
       "      <th>9998</th>\n",
       "      <td>Tênis Feminino Leve Barato Ganhe 1 Colchonete ...</td>\n",
       "    </tr>\n",
       "    <tr>\n",
       "      <th>9999</th>\n",
       "      <td>Tênis Polo Ralph Lauren Modelo Cantor Low Bran...</td>\n",
       "    </tr>\n",
       "  </tbody>\n",
       "</table>\n",
       "<p>10000 rows × 1 columns</p>\n",
       "</div>"
      ],
      "text/plain": [
       "                                         ITE_ITEM_TITLE\n",
       "0      Tênis Olympikus Esporte Valente - Masculino Kids\n",
       "1     Bicicleta Barra Forte Samy C/ 6 Marchas Cubo C...\n",
       "2          Tênis Usthemp Slip-on Temático - Labrador 2\n",
       "3           Tênis Casual Feminino Moleca Tecido Tie Dye\n",
       "4           Tênis Star Baby Sapatinho Conforto + Brinde\n",
       "...                                                 ...\n",
       "9995               Chuteira Futsal Oxn Velox 3 Infantil\n",
       "9996  Sapatenis Casual Masculino Estiloso 24horas Co...\n",
       "9997          Tênis Feminino Infantil Molekinha Tie Dye\n",
       "9998  Tênis Feminino Leve Barato Ganhe 1 Colchonete ...\n",
       "9999  Tênis Polo Ralph Lauren Modelo Cantor Low Bran...\n",
       "\n",
       "[10000 rows x 1 columns]"
      ]
     },
     "execution_count": 54,
     "metadata": {},
     "output_type": "execute_result"
    }
   ],
   "source": [
    "df2"
   ]
  },
  {
   "cell_type": "markdown",
   "id": "f073f967",
   "metadata": {},
   "source": [
    "# Normalização do texto"
   ]
  },
  {
   "cell_type": "code",
   "execution_count": 112,
   "id": "59785f74",
   "metadata": {},
   "outputs": [],
   "source": [
    "def new_norm_corpus(text):\n",
    "    text = normalize('NFKD', text).encode('ASCII','ignore').decode('ASCII')\n",
    "    #text = ' '.join(s for s in text.split() if not any(c.isdigit() for c in s))\n",
    "    text = re.sub(r'[^\\w\\s]','',text)\n",
    "    text = re.sub(r\"<[^>]*>\",'',text)\n",
    "    text = text.lower()\n",
    "    return text"
   ]
  },
  {
   "cell_type": "code",
   "execution_count": 104,
   "id": "968b7d68",
   "metadata": {},
   "outputs": [],
   "source": [
    "df2['ITE_ITEM_TITLE'] = df2.apply(lambda x: new_norm_corpus(x['ITE_ITEM_TITLE']), axis=1)"
   ]
  },
  {
   "cell_type": "code",
   "execution_count": 106,
   "id": "74377b9a",
   "metadata": {},
   "outputs": [
    {
     "data": {
      "text/html": [
       "<div>\n",
       "<style scoped>\n",
       "    .dataframe tbody tr th:only-of-type {\n",
       "        vertical-align: middle;\n",
       "    }\n",
       "\n",
       "    .dataframe tbody tr th {\n",
       "        vertical-align: top;\n",
       "    }\n",
       "\n",
       "    .dataframe thead th {\n",
       "        text-align: right;\n",
       "    }\n",
       "</style>\n",
       "<table border=\"1\" class=\"dataframe\">\n",
       "  <thead>\n",
       "    <tr style=\"text-align: right;\">\n",
       "      <th></th>\n",
       "      <th>ITE_ITEM_TITLE</th>\n",
       "    </tr>\n",
       "  </thead>\n",
       "  <tbody>\n",
       "    <tr>\n",
       "      <th>0</th>\n",
       "      <td>tenis olympikus esporte valente  masculino kids</td>\n",
       "    </tr>\n",
       "    <tr>\n",
       "      <th>1</th>\n",
       "      <td>bicicleta barra forte samy c 6 marchas cubo c ...</td>\n",
       "    </tr>\n",
       "    <tr>\n",
       "      <th>2</th>\n",
       "      <td>tenis usthemp slipon tematico  labrador 2</td>\n",
       "    </tr>\n",
       "    <tr>\n",
       "      <th>3</th>\n",
       "      <td>tenis casual feminino moleca tecido tie dye</td>\n",
       "    </tr>\n",
       "    <tr>\n",
       "      <th>4</th>\n",
       "      <td>tenis star baby sapatinho conforto  brinde</td>\n",
       "    </tr>\n",
       "    <tr>\n",
       "      <th>...</th>\n",
       "      <td>...</td>\n",
       "    </tr>\n",
       "    <tr>\n",
       "      <th>9995</th>\n",
       "      <td>chuteira futsal oxn velox 3 infantil</td>\n",
       "    </tr>\n",
       "    <tr>\n",
       "      <th>9996</th>\n",
       "      <td>sapatenis casual masculino estiloso 24horas co...</td>\n",
       "    </tr>\n",
       "    <tr>\n",
       "      <th>9997</th>\n",
       "      <td>tenis feminino infantil molekinha tie dye</td>\n",
       "    </tr>\n",
       "    <tr>\n",
       "      <th>9998</th>\n",
       "      <td>tenis feminino leve barato ganhe 1 colchonete ...</td>\n",
       "    </tr>\n",
       "    <tr>\n",
       "      <th>9999</th>\n",
       "      <td>tenis polo ralph lauren modelo cantor low bran...</td>\n",
       "    </tr>\n",
       "  </tbody>\n",
       "</table>\n",
       "<p>10000 rows × 1 columns</p>\n",
       "</div>"
      ],
      "text/plain": [
       "                                         ITE_ITEM_TITLE\n",
       "0       tenis olympikus esporte valente  masculino kids\n",
       "1     bicicleta barra forte samy c 6 marchas cubo c ...\n",
       "2             tenis usthemp slipon tematico  labrador 2\n",
       "3           tenis casual feminino moleca tecido tie dye\n",
       "4            tenis star baby sapatinho conforto  brinde\n",
       "...                                                 ...\n",
       "9995               chuteira futsal oxn velox 3 infantil\n",
       "9996  sapatenis casual masculino estiloso 24horas co...\n",
       "9997          tenis feminino infantil molekinha tie dye\n",
       "9998  tenis feminino leve barato ganhe 1 colchonete ...\n",
       "9999  tenis polo ralph lauren modelo cantor low bran...\n",
       "\n",
       "[10000 rows x 1 columns]"
      ]
     },
     "execution_count": 106,
     "metadata": {},
     "output_type": "execute_result"
    }
   ],
   "source": [
    "df2"
   ]
  },
  {
   "cell_type": "code",
   "execution_count": null,
   "id": "0dc410b8",
   "metadata": {},
   "outputs": [],
   "source": []
  },
  {
   "cell_type": "code",
   "execution_count": null,
   "id": "04d32919",
   "metadata": {},
   "outputs": [],
   "source": []
  },
  {
   "cell_type": "code",
   "execution_count": 116,
   "id": "95d34627",
   "metadata": {},
   "outputs": [],
   "source": [
    "saida = list()"
   ]
  },
  {
   "cell_type": "code",
   "execution_count": 117,
   "id": "0423f874",
   "metadata": {},
   "outputs": [
    {
     "name": "stderr",
     "output_type": "stream",
     "text": [
      "10000it [1:16:47,  2.17it/s]\n"
     ]
    }
   ],
   "source": [
    "for idx,title in tqdm(df2.iterrows()):\n",
    "    \n",
    "    for idx2,tit in df2.iterrows():\n",
    "        distancia = Levenshtein.normalized_similarity(title['ITE_ITEM_TITLE'], tit['ITE_ITEM_TITLE'], weights=(1,1,2))\n",
    "        if distancia > 0.5:\n",
    "            saida.append(\n",
    "            {'ITE_ITEM_TITLE_1':title['ITE_ITEM_TITLE'],\n",
    "            'ITE_ITEM_TITLE_2':tit['ITE_ITEM_TITLE'],\n",
    "             'SCORE':distancia\n",
    "            }\n",
    "            )"
   ]
  },
  {
   "cell_type": "markdown",
   "id": "f6335770",
   "metadata": {},
   "source": [
    "Conforme enumciado do desafio, é solicitado um notebook que seja capaz de determine o quão semelhante dois titulos do conjunto \"item_titles_test.csv\", foi usado o algoritimo Levenshtein muito utilizado para avaliar a distancia entre duas palavras através do numero de edções, para essa entrega foi selecionado itens com similaridade maior que 0.5, para como o conjunto possui 10 mil registros, caso coloquemos um a um, teriamos 100 milhões de retornos. Porem retirando a regra de distancia > 0.5, é possivel obter o valor completo de 100 milhões de registros."
   ]
  },
  {
   "cell_type": "code",
   "execution_count": 118,
   "id": "c143c2bb",
   "metadata": {},
   "outputs": [],
   "source": [
    "saida_df = DataFrameataFrame(saida)"
   ]
  },
  {
   "cell_type": "code",
   "execution_count": 119,
   "id": "105ccea7",
   "metadata": {},
   "outputs": [
    {
     "data": {
      "text/html": [
       "<div>\n",
       "<style scoped>\n",
       "    .dataframe tbody tr th:only-of-type {\n",
       "        vertical-align: middle;\n",
       "    }\n",
       "\n",
       "    .dataframe tbody tr th {\n",
       "        vertical-align: top;\n",
       "    }\n",
       "\n",
       "    .dataframe thead th {\n",
       "        text-align: right;\n",
       "    }\n",
       "</style>\n",
       "<table border=\"1\" class=\"dataframe\">\n",
       "  <thead>\n",
       "    <tr style=\"text-align: right;\">\n",
       "      <th></th>\n",
       "      <th>ITE_ITEM_TITLE_1</th>\n",
       "      <th>ITE_ITEM_TITLE_2</th>\n",
       "      <th>SCORE</th>\n",
       "    </tr>\n",
       "  </thead>\n",
       "  <tbody>\n",
       "    <tr>\n",
       "      <th>0</th>\n",
       "      <td>tenis olympikus esporte valente  masculino kids</td>\n",
       "      <td>tenis olympikus esporte valente  masculino kids</td>\n",
       "      <td>1.000000</td>\n",
       "    </tr>\n",
       "    <tr>\n",
       "      <th>1</th>\n",
       "      <td>tenis olympikus esporte valente  masculino kids</td>\n",
       "      <td>tenis ous emergente copper essencial</td>\n",
       "      <td>0.506024</td>\n",
       "    </tr>\n",
       "    <tr>\n",
       "      <th>2</th>\n",
       "      <td>tenis olympikus esporte valente  masculino kids</td>\n",
       "      <td>tenis usthemp spice tematico  raposinhas</td>\n",
       "      <td>0.505747</td>\n",
       "    </tr>\n",
       "    <tr>\n",
       "      <th>3</th>\n",
       "      <td>tenis olympikus esporte valente  masculino kids</td>\n",
       "      <td>tenis para homens de couro macio leve masc adu...</td>\n",
       "      <td>0.538462</td>\n",
       "    </tr>\n",
       "    <tr>\n",
       "      <th>4</th>\n",
       "      <td>tenis olympikus esporte valente  masculino kids</td>\n",
       "      <td>tenis usthemp short tematico  bulldog frances</td>\n",
       "      <td>0.521739</td>\n",
       "    </tr>\n",
       "    <tr>\n",
       "      <th>...</th>\n",
       "      <td>...</td>\n",
       "      <td>...</td>\n",
       "      <td>...</td>\n",
       "    </tr>\n",
       "    <tr>\n",
       "      <th>8927357</th>\n",
       "      <td>tenis polo ralph lauren modelo cantor low bran...</td>\n",
       "      <td>tenis grife gucci rhyton boca masculino</td>\n",
       "      <td>0.510204</td>\n",
       "    </tr>\n",
       "    <tr>\n",
       "      <th>8927358</th>\n",
       "      <td>tenis polo ralph lauren modelo cantor low bran...</td>\n",
       "      <td>tenis infantil star feet cano medio masculino ...</td>\n",
       "      <td>0.530973</td>\n",
       "    </tr>\n",
       "    <tr>\n",
       "      <th>8927359</th>\n",
       "      <td>tenis polo ralph lauren modelo cantor low bran...</td>\n",
       "      <td>sapatenis polo plus original tenis slip on  ci...</td>\n",
       "      <td>0.534483</td>\n",
       "    </tr>\n",
       "    <tr>\n",
       "      <th>8927360</th>\n",
       "      <td>tenis polo ralph lauren modelo cantor low bran...</td>\n",
       "      <td>tenis em couro sapatenis solado preto ogochi m...</td>\n",
       "      <td>0.607143</td>\n",
       "    </tr>\n",
       "    <tr>\n",
       "      <th>8927361</th>\n",
       "      <td>tenis polo ralph lauren modelo cantor low bran...</td>\n",
       "      <td>tenis polo ralph lauren modelo cantor low bran...</td>\n",
       "      <td>1.000000</td>\n",
       "    </tr>\n",
       "  </tbody>\n",
       "</table>\n",
       "<p>8927362 rows × 3 columns</p>\n",
       "</div>"
      ],
      "text/plain": [
       "                                          ITE_ITEM_TITLE_1  \\\n",
       "0          tenis olympikus esporte valente  masculino kids   \n",
       "1          tenis olympikus esporte valente  masculino kids   \n",
       "2          tenis olympikus esporte valente  masculino kids   \n",
       "3          tenis olympikus esporte valente  masculino kids   \n",
       "4          tenis olympikus esporte valente  masculino kids   \n",
       "...                                                    ...   \n",
       "8927357  tenis polo ralph lauren modelo cantor low bran...   \n",
       "8927358  tenis polo ralph lauren modelo cantor low bran...   \n",
       "8927359  tenis polo ralph lauren modelo cantor low bran...   \n",
       "8927360  tenis polo ralph lauren modelo cantor low bran...   \n",
       "8927361  tenis polo ralph lauren modelo cantor low bran...   \n",
       "\n",
       "                                          ITE_ITEM_TITLE_2     SCORE  \n",
       "0          tenis olympikus esporte valente  masculino kids  1.000000  \n",
       "1                     tenis ous emergente copper essencial  0.506024  \n",
       "2                 tenis usthemp spice tematico  raposinhas  0.505747  \n",
       "3        tenis para homens de couro macio leve masc adu...  0.538462  \n",
       "4            tenis usthemp short tematico  bulldog frances  0.521739  \n",
       "...                                                    ...       ...  \n",
       "8927357           tenis grife gucci rhyton boca masculino   0.510204  \n",
       "8927358  tenis infantil star feet cano medio masculino ...  0.530973  \n",
       "8927359  sapatenis polo plus original tenis slip on  ci...  0.534483  \n",
       "8927360  tenis em couro sapatenis solado preto ogochi m...  0.607143  \n",
       "8927361  tenis polo ralph lauren modelo cantor low bran...  1.000000  \n",
       "\n",
       "[8927362 rows x 3 columns]"
      ]
     },
     "execution_count": 119,
     "metadata": {},
     "output_type": "execute_result"
    }
   ],
   "source": [
    "saida_df"
   ]
  },
  {
   "cell_type": "code",
   "execution_count": 120,
   "id": "ba48ca58",
   "metadata": {},
   "outputs": [],
   "source": [
    "saida_df.to_csv('SAIDA_SIMILARIDADE.csv',sep='|')"
   ]
  },
  {
   "cell_type": "code",
   "execution_count": null,
   "id": "ac77103d",
   "metadata": {},
   "outputs": [],
   "source": []
  }
 ],
 "metadata": {
  "kernelspec": {
   "display_name": "Python 3",
   "language": "python",
   "name": "python3"
  },
  "language_info": {
   "codemirror_mode": {
    "name": "ipython",
    "version": 3
   },
   "file_extension": ".py",
   "mimetype": "text/x-python",
   "name": "python",
   "nbconvert_exporter": "python",
   "pygments_lexer": "ipython3",
   "version": "3.8.8"
  }
 },
 "nbformat": 4,
 "nbformat_minor": 5
}
